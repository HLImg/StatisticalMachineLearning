{
 "cells": [
  {
   "cell_type": "markdown",
   "metadata": {
    "collapsed": true,
    "pycharm": {
     "name": "#%% md\n"
    }
   },
   "source": [
    "# 第 3 章 k 近邻法\n",
    "## 3.2 k 近邻模型\n",
    "### 例 3.1\n",
    "已知二维空间的3个点 $x_1=(1, 1)^T, x_2=(5, 1)^T, x_3=(4,4)^T$,试求在$p$取不同值试，$L_p$距离下$x_1$的最近邻点。"
   ]
  },
  {
   "cell_type": "code",
   "execution_count": 78,
   "outputs": [],
   "source": [
    "import numpy as np\n",
    "import matplotlib.pyplot as plt\n",
    "%matplotlib inline"
   ],
   "metadata": {
    "collapsed": false,
    "pycharm": {
     "name": "#%%\n"
    }
   }
  },
  {
   "cell_type": "code",
   "execution_count": 79,
   "outputs": [],
   "source": [
    "def Lp_distance(p, xi, xj):\n",
    "    xi, xj = np.array(xi), np.array(xj)\n",
    "    distance = 0.0\n",
    "    for item in np.abs(xi - xj):\n",
    "        distance = distance + item ** p\n",
    "    return distance ** (1/p)"
   ],
   "metadata": {
    "collapsed": false,
    "pycharm": {
     "name": "#%%\n"
    }
   }
  },
  {
   "cell_type": "code",
   "execution_count": 81,
   "outputs": [],
   "source": [
    "x1 = (1, 1)\n",
    "x2 = (5, 1)\n",
    "x3 = (4, 4)"
   ],
   "metadata": {
    "collapsed": false,
    "pycharm": {
     "name": "#%%\n"
    }
   }
  },
  {
   "cell_type": "code",
   "execution_count": 82,
   "outputs": [
    {
     "data": {
      "text/plain": "(4.0, 4.0, 3.9999999999999996, 4.0)"
     },
     "execution_count": 82,
     "metadata": {},
     "output_type": "execute_result"
    }
   ],
   "source": [
    "Lp_distance(1, x1, x2), Lp_distance(2, x1, x2), Lp_distance(3, x1, x2), Lp_distance(4, x1, x2)"
   ],
   "metadata": {
    "collapsed": false,
    "pycharm": {
     "name": "#%%\n"
    }
   }
  },
  {
   "cell_type": "code",
   "execution_count": 83,
   "outputs": [
    {
     "data": {
      "text/plain": "(6.0, 4.242640687119285, 3.7797631496846193, 3.5676213450081633)"
     },
     "execution_count": 83,
     "metadata": {},
     "output_type": "execute_result"
    }
   ],
   "source": [
    "Lp_distance(1, x1, x3), Lp_distance(2, x1, x3), Lp_distance(3, x1, x3), Lp_distance(4, x1, x3)"
   ],
   "metadata": {
    "collapsed": false,
    "pycharm": {
     "name": "#%%\n"
    }
   }
  },
  {
   "cell_type": "markdown",
   "source": [
    "## 3.3 k 近邻法的实现： kd 树\n",
    "### 例 3.2\n",
    "给定一个二维空间的数据集：$T=\\{(2, 3)^T, (5, 4)^T, (9, 6)^T, (4, 7)^T, (8, 1)^T, (7, 2)^T\\}$,构造一个平衡kd树\n",
    "\n",
    "运行代码如下， 结果如图所示：\n",
    "\n",
    "![](http://qiniu.lianghao.work/markdown/20220415111803.png)"
   ],
   "metadata": {
    "collapsed": false,
    "pycharm": {
     "name": "#%% md\n"
    }
   }
  },
  {
   "cell_type": "code",
   "execution_count": 60,
   "outputs": [],
   "source": [
    "import numpy as np\n",
    "import matplotlib.pyplot as plt\n",
    "from graphviz import Digraph\n",
    "from operator import itemgetter\n",
    "%matplotlib inline"
   ],
   "metadata": {
    "collapsed": false,
    "pycharm": {
     "name": "#%%\n"
    }
   }
  },
  {
   "cell_type": "code",
   "execution_count": 3,
   "outputs": [],
   "source": [
    "# 数据\n",
    "train_data = [(2, 3), (5, 4), (9, 6), (4, 7), (8, 1), (7, 2)]"
   ],
   "metadata": {
    "collapsed": false,
    "pycharm": {
     "name": "#%%\n"
    }
   }
  },
  {
   "cell_type": "code",
   "execution_count": 72,
   "outputs": [
    {
     "data": {
      "text/plain": "<Figure size 432x288 with 1 Axes>",
      "image/png": "[encoded data removed]"
     },
     "metadata": {
      "needs_background": "light"
     },
     "output_type": "display_data"
    }
   ],
   "source": [
    "# 打印数据\n",
    "plt.plot([item[0] for item in train_data], [item[1] for item in train_data], 'bo')\n",
    "plt.show()"
   ],
   "metadata": {
    "collapsed": false,
    "pycharm": {
     "name": "#%%\n"
    }
   }
  },
  {
   "cell_type": "code",
   "execution_count": 67,
   "outputs": [],
   "source": [
    "def MakeItem(Train_Data, dim):\n",
    "    \"\"\"\n",
    "    按照第dim维进行排序，并划分为3部分 left , mid, right\n",
    "    :param Train_Data: 输入数据\n",
    "    :param dim: 特征向量的维数\n",
    "    :return: [left], [mid], [right]\n",
    "    \"\"\"\n",
    "    data = {}\n",
    "    values = [Train_Data[i][dim] for i in range(0, len(Train_Data))]\n",
    "    for i in range(0, len(values)):\n",
    "        if str(i) not in data.keys():\n",
    "            data[str(i)] = values[i]\n",
    "    orderData = sorted(data.items(), key=lambda v : v[1])\n",
    "    n = len(Train_Data)\n",
    "    mid = n // 2\n",
    "    left = [Train_Data[int(orderData[i][0])] for i in range(0, mid)]\n",
    "    mids = [Train_Data[int(orderData[i][0])] for i in range(mid, mid + 1)]\n",
    "    right = [Train_Data[int(orderData[i][0])] for i in range(mid + 1, n)]\n",
    "    return left, mids, right\n",
    "\n",
    "class BinaryTree:\n",
    "    \"\"\"\n",
    "    二叉树的数据结构\n",
    "    \"\"\"\n",
    "    def __init__(self, value):\n",
    "        self.value = value\n",
    "        self.left = None\n",
    "        self.right = None\n",
    "\n",
    "    def SetNodeVal(self, val):\n",
    "        self.value = val\n",
    "\n",
    "def MakeKd(TrainData, j, k):\n",
    "    \"\"\"\n",
    "    根据输入数据，递归构造二叉 kd 树\n",
    "    :param TrainData: 输入数据\n",
    "    :param j: kd 树的深度，从0开始\n",
    "    :param k: 特征向量的总维数\n",
    "    :return: kd树\n",
    "    \"\"\"\n",
    "    if len(TrainData) >= 1:\n",
    "        left, mid, right = MakeItem(TrainData, j % k )\n",
    "        node = BinaryTree(mid[0])\n",
    "        if len(left) >= 1:\n",
    "            node.left = MakeKd(left, j + 1, k)\n",
    "        if len(right) >= 1:\n",
    "            node.right = MakeKd(right, j + 1, k)\n",
    "    return node"
   ],
   "metadata": {
    "collapsed": false,
    "pycharm": {
     "name": "#%%\n"
    }
   }
  },
  {
   "cell_type": "code",
   "execution_count": 71,
   "outputs": [],
   "source": [
    "def MakeKdGraph(tree, g):\n",
    "    \"\"\"\n",
    "    递归实现绘制二叉kd树\n",
    "    :param tree: kd 树\n",
    "    :param g: graph 对象\n",
    "    :return:\n",
    "    \"\"\"\n",
    "    if tree :\n",
    "        if str(tree.value) not in g:\n",
    "            # 检测该结点是否已经被创建\n",
    "            g.node(name=str(tree.value))\n",
    "        if tree.left:\n",
    "            g.node(name=str(tree.left.value))\n",
    "            g.edge(str(tree.value), str(tree.left.value))\n",
    "        if tree.right:\n",
    "            g.node(name=str(tree.right.value))\n",
    "            g.edge(str(tree.value), str(tree.right.value))\n",
    "        MakeKdGraph(tree.left, g)\n",
    "        MakeKdGraph(tree.right, g)"
   ],
   "metadata": {
    "collapsed": false,
    "pycharm": {
     "name": "#%%\n"
    }
   }
  },
  {
   "cell_type": "code",
   "execution_count": 70,
   "outputs": [
    {
     "data": {
      "text/plain": "'kdtree.gv.pdf'"
     },
     "execution_count": 70,
     "metadata": {},
     "output_type": "execute_result"
    }
   ],
   "source": [
    "# 创建对象\n",
    "g = Digraph('kdtree')\n",
    "# 生成kd树\n",
    "root = MakeKd(train_data, 0, 2)\n",
    "# 绘制kd树\n",
    "MakeKdGraph(root, g)\n",
    "g.view()"
   ],
   "metadata": {
    "collapsed": false,
    "pycharm": {
     "name": "#%%\n"
    }
   }
  },
  {
   "cell_type": "markdown",
   "source": [
    "![](http://qiniu.lianghao.work/markdown/20220415111803.png)"
   ],
   "metadata": {
    "collapsed": false,
    "pycharm": {
     "name": "#%% md\n"
    }
   }
  },
  {
   "cell_type": "markdown",
   "source": [
    "### 例 3.3\n",
    "给定一个如下所示的kd树，根结点为A，其子结点为B, C等。树上共存储7个实例点；另有一个输入目标实例点S={(7, 2)}，找到S的最近邻点。\n",
    "数据集：$T=\\{(2, 3)^T, (5, 4)^T, (9, 6)^T, (4, 7)^T, (8, 1)^T, (7, 2)^T\\}$\n",
    "\n",
    "![](http://qiniu.lianghao.work/markdown/20220415111803.png)\n",
    "![](http://qiniu.lianghao.work/markdown/20220415125619.png)\n",
    "\n"
   ],
   "metadata": {
    "collapsed": false,
    "pycharm": {
     "name": "#%% md\n"
    }
   }
  },
  {
   "cell_type": "code",
   "execution_count": 74,
   "outputs": [],
   "source": [
    "import numpy as np\n",
    "import matplotlib.pyplot as plt\n",
    "from graphviz import Digraph\n",
    "from operator import itemgetter\n",
    "%matplotlib inline"
   ],
   "metadata": {
    "collapsed": false,
    "pycharm": {
     "name": "#%%\n"
    }
   }
  },
  {
   "cell_type": "code",
   "execution_count": 190,
   "outputs": [],
   "source": [
    "def MakeItem(Train_Data, dim):\n",
    "    \"\"\"\n",
    "    按照第dim维进行排序，并划分为3部分 left , mid, right\n",
    "    :param Train_Data: 输入数据\n",
    "    :param dim: 特征向量的维数\n",
    "    :return: [left], [mid], [right]\n",
    "    \"\"\"\n",
    "    data = {}\n",
    "    values = [Train_Data[i][dim] for i in range(0, len(Train_Data))]\n",
    "    for i in range(0, len(values)):\n",
    "        if str(i) not in data.keys():\n",
    "            data[str(i)] = values[i]\n",
    "    orderData = sorted(data.items(), key=lambda v : v[1])\n",
    "    n = len(Train_Data)\n",
    "    mid = n // 2\n",
    "    left = [Train_Data[int(orderData[i][0])] for i in range(0, mid)]\n",
    "    mids = [Train_Data[int(orderData[i][0])] for i in range(mid, mid + 1)]\n",
    "    right = [Train_Data[int(orderData[i][0])] for i in range(mid + 1, n)]\n",
    "    return left, mids, right\n",
    "\n",
    "class BinaryTreeP:\n",
    "    \"\"\"\n",
    "    二叉树的数据结构\n",
    "    \"\"\"\n",
    "    def __init__(self, value):\n",
    "        self.value = value\n",
    "        self.left = None\n",
    "        self.right = None\n",
    "        self.parent = None\n",
    "        self.dim = None\n",
    "\n",
    "    def SetNodeVal(self, val):\n",
    "        self.value = val\n",
    "\n",
    "def MakeKdP(TrainData, j, k):\n",
    "    \"\"\"\n",
    "    根据输入数据，递归构造二叉 kd 树。\n",
    "    Modify: 加了parent指针\n",
    "    :param TrainData: 输入数据\n",
    "    :param j: kd 树的深度，从0开始\n",
    "    :param k: 特征向量的总维数\n",
    "    :return: kd树\n",
    "    \"\"\"\n",
    "    if len(TrainData) >= 1:\n",
    "        left, mid, right = MakeItem(TrainData, j % k )\n",
    "        node = BinaryTreeP(mid[0])\n",
    "        node.dim = j % k\n",
    "        if len(left) >= 1:\n",
    "            node.left = MakeKdP(left, j + 1, k)\n",
    "            node.left.parent = node\n",
    "            node.left.dim = (j + 1 ) % k\n",
    "        if len(right) >= 1:\n",
    "            node.right = MakeKdP(right, j + 1, k)\n",
    "            node.right.dim = (j + 1) % k\n",
    "            node.right.parent = node\n",
    "    return node"
   ],
   "metadata": {
    "collapsed": false,
    "pycharm": {
     "name": "#%%\n"
    }
   }
  },
  {
   "cell_type": "code",
   "execution_count": 191,
   "outputs": [],
   "source": [
    "# 数据\n",
    "train_data = [(2, 3), (5, 4), (9, 6), (4, 7), (8, 1), (7, 2)]\n",
    "root = MakeKdP(train_data, 0, 2)"
   ],
   "metadata": {
    "collapsed": false,
    "pycharm": {
     "name": "#%%\n"
    }
   }
  },
  {
   "cell_type": "code",
   "execution_count": 227,
   "outputs": [
    {
     "name": "stdout",
     "output_type": "stream",
     "text": [
      "[(5, 4), 1.4142135623730951]\n"
     ]
    }
   ],
   "source": [
    "# step.1 找出包含目标点x的叶节点\n",
    "def LayerNode(root, x ):\n",
    "    if root.left != None or root.right != None:\n",
    "        if x[root.dim] < root.value[root.dim]:\n",
    "            if root.left:\n",
    "                node = LayerNode(root.left, x)\n",
    "        else:\n",
    "            if root.right:\n",
    "                node = LayerNode(root.right, x)\n",
    "    else:\n",
    "        return root\n",
    "    return node\n",
    "\n",
    "# step 2 递归地后退\n",
    "def Back(node, x, leastnodes, p, visted):\n",
    "    if node.parent :\n",
    "        # a. 检查当前结点结点\n",
    "        parent = node.parent\n",
    "        if Lp_distance(p, node.value, x) < leastnodes[1]:\n",
    "            leastnodes = [node.value, Lp_distance(p, node.value, x)]\n",
    "        visted[str(node.value)] = True\n",
    "        # b. 兄弟结点\n",
    "        brother = parent.left\n",
    "        if brother == node:\n",
    "            brother = parent.right\n",
    "        if visted[str(brother.value)] == False:\n",
    "            # 如果兄弟结点没有被递归，且父结点[dim] - target[dim] < 当前最近距离\n",
    "            # 说明，父结点中存在有最小近邻点的子实例结点\n",
    "            if parent.value[parent.dim] - x[parent.dim] < leastnodes[1]:\n",
    "                visted[str(brother.value)] = True\n",
    "                layer = LayerNode(brother, x)\n",
    "                leastnodes = Back(layer, x, leastnodes, p, visted)\n",
    "        leastnodes = Back(parent, x, leastnodes, p, visted)\n",
    "    return leastnodes\n",
    "\n",
    "\n",
    "root = MakeKdP(train_data, 0, 2)\n",
    "s = (4, 3)\n",
    "layer = LayerNode(root, s)\n",
    "least = [layer.value, Lp_distance(2, layer.value, s)]\n",
    "vists = {}\n",
    "for item in train_data:\n",
    "    if item not in vists.keys():\n",
    "        vists[str(item)] = False\n",
    "\n",
    "A = Back(layer, s, least, 2, vists)\n",
    "print(A)"
   ],
   "metadata": {
    "collapsed": false,
    "pycharm": {
     "name": "#%%\n"
    }
   }
  },
  {
   "cell_type": "code",
   "execution_count": 205,
   "outputs": [],
   "source": [
    "root = MakeKdP(train_data, 0, 2)\n",
    "s = (3, 4.5)"
   ],
   "metadata": {
    "collapsed": false,
    "pycharm": {
     "name": "#%%\n"
    }
   }
  },
  {
   "cell_type": "code",
   "execution_count": 181,
   "outputs": [
    {
     "data": {
      "text/plain": "<Figure size 432x288 with 1 Axes>",
      "image/png": "[encoded data removed]"
     },
     "metadata": {
      "needs_background": "light"
     },
     "output_type": "display_data"
    }
   ],
   "source": [
    "train = [(2, 3), (5, 4), (9, 6), (4, 7), (8, 1), (7, 2)]\n",
    "plt.plot([3], [4.5], 'ro')\n",
    "plt.plot([item[0] for item in train], [item[1] for item in train], 'bo')\n",
    "plt.show()"
   ],
   "metadata": {
    "collapsed": false,
    "pycharm": {
     "name": "#%%\n"
    }
   }
  },
  {
   "cell_type": "markdown",
   "source": [
    "## 习题\n",
    "### 3.1 参照图3.1，在二维空间中给出实例点，画出k为1和2时的k近邻法构成的空间划分，并对其进行比较，体会k值选择与模型复杂度与预测准确率之间的关系\n",
    "\n",
    "![](http://qiniu.lianghao.work/markdown/20220415144228.png)\n",
    "\n",
    "从结果来看，k越小，表示的模型越复杂，对于边界的划分条件比较严格。k越大，边界划分越简单\n",
    "![](http://qiniu.lianghao.work/markdown/20220415161439.png)"
   ],
   "metadata": {
    "collapsed": false,
    "pycharm": {
     "name": "#%% md\n"
    }
   }
  },
  {
   "cell_type": "code",
   "execution_count": 228,
   "outputs": [],
   "source": [
    "import numpy as np\n",
    "import matplotlib.pyplot as plt\n",
    "from matplotlib.colors import ListedColormap\n",
    "from sklearn.neighbors import KNeighborsClassifier\n",
    "%matplotlib inline\n",
    "\n",
    "'''Ref: https://blog.csdn.net/sdu_hao/article/details/103055338'''"
   ],
   "metadata": {
    "collapsed": false,
    "pycharm": {
     "name": "#%%\n"
    }
   }
  },
  {
   "cell_type": "code",
   "execution_count": 233,
   "outputs": [],
   "source": [
    "Train = np.array([[5, 12, 1], [6, 21, 0], [14, 5, 0],\n",
    "                 [16, 10, 0], [13, 19, 0], [13, 32, 1],\n",
    "                 [17, 27, 1], [18, 24, 1], [20, 20, 0],\n",
    "                 [23, 14, 1], [23, 25, 1], [23, 31, 1],\n",
    "                 [26, 8, 0], [30, 17, 1], [30, 26, 1],\n",
    "                 [34, 8, 0], [34, 19, 1], [37, 28, 1]])\n",
    "train_input = Train[:, 0 : 2]\n",
    "train_output = Train[:, -1]"
   ],
   "metadata": {
    "collapsed": false,
    "pycharm": {
     "name": "#%%\n"
    }
   }
  },
  {
   "cell_type": "code",
   "execution_count": 242,
   "outputs": [
    {
     "data": {
      "text/plain": "<Figure size 1080x360 with 2 Axes>",
      "image/png": "[encoded data removed]"
     },
     "metadata": {
      "needs_background": "light"
     },
     "output_type": "display_data"
    }
   ],
   "source": [
    "# 创建KNN分类模型\n",
    "models = (\n",
    "    KNeighborsClassifier(n_neighbors=1, n_jobs=1),\n",
    "    KNeighborsClassifier(n_neighbors=2, n_jobs=1)\n",
    ")\n",
    "# 训练数据\n",
    "modelfit = (model.fit(train_input, train_output) for model in models)\n",
    "# 标题\n",
    "titles = (\n",
    "    'K Neighbors with k=1',\n",
    "    'K Neighbors with k=2'\n",
    ")\n",
    "# 画布\n",
    "fig = plt.figure(figsize=(15, 5))\n",
    "plt.subplots_adjust(wspace=0.4, hspace=0.1)\n",
    "# 生成网格点\n",
    "x_min, x_max = train_input[:, 0].min(), train_input[:, 0].max()\n",
    "y_min, y_max = train_input[:, 1].min(), train_input[:, 1].max()\n",
    "xx, yy = np.meshgrid(np.arange(x_min - 1, x_max + 1, 0.2), np.arange(y_min - 1, y_max + 1, 0.2))\n",
    "# 绘制图像\n",
    "for model, title, ax in zip(modelfit, titles, fig.subplots(1, 2).flatten()):\n",
    "    z = model.predict(np.c_[xx.ravel(), yy.ravel()])\n",
    "    z = z.reshape(xx.shape)\n",
    "    colors = ['red', 'green', 'lightgreen', 'gray', 'cyan']\n",
    "    cmap = ListedColormap(colors[:len(np.unique(z))])\n",
    "    # 预测的\n",
    "    ax.contourf(xx, yy, z, cmap=cmap, alpha=0.5)\n",
    "    # 训练的\n",
    "    ax.scatter(train_input[:, 0], train_input[:, 1], c= train_output , s=50, edgecolors='k', cmap=cmap, alpha=0.5)\n",
    "    ax.set_title(title)\n",
    "plt.show()"
   ],
   "metadata": {
    "collapsed": false,
    "pycharm": {
     "name": "#%%\n"
    }
   }
  },
  {
   "cell_type": "markdown",
   "source": [
    "### 3.2 利用例题3.2 构造的kd树求点 $x = (3, 4.5)^T$的最近邻点\n",
    "![](http://qiniu.lianghao.work/markdown/20220415111803.png)"
   ],
   "metadata": {
    "collapsed": false,
    "pycharm": {
     "name": "#%% md\n"
    }
   }
  },
  {
   "cell_type": "markdown",
   "source": [
    "#### (1)自己写的方法"
   ],
   "metadata": {
    "collapsed": false,
    "pycharm": {
     "name": "#%% md\n"
    }
   }
  },
  {
   "cell_type": "code",
   "execution_count": null,
   "outputs": [],
   "source": [
    "def MakeItem(Train_Data, dim):\n",
    "    \"\"\"\n",
    "    按照第dim维进行排序，并划分为3部分 left , mid, right\n",
    "    :param Train_Data: 输入数据\n",
    "    :param dim: 特征向量的维数\n",
    "    :return: [left], [mid], [right]\n",
    "    \"\"\"\n",
    "    data = {}\n",
    "    values = [Train_Data[i][dim] for i in range(0, len(Train_Data))]\n",
    "    for i in range(0, len(values)):\n",
    "        if str(i) not in data.keys():\n",
    "            data[str(i)] = values[i]\n",
    "    orderData = sorted(data.items(), key=lambda v : v[1])\n",
    "    n = len(Train_Data)\n",
    "    mid = n // 2\n",
    "    left = [Train_Data[int(orderData[i][0])] for i in range(0, mid)]\n",
    "    mids = [Train_Data[int(orderData[i][0])] for i in range(mid, mid + 1)]\n",
    "    right = [Train_Data[int(orderData[i][0])] for i in range(mid + 1, n)]\n",
    "    return left, mids, right\n",
    "\n",
    "class BinaryTreeP:\n",
    "    \"\"\"\n",
    "    二叉树的数据结构\n",
    "    \"\"\"\n",
    "    def __init__(self, value):\n",
    "        self.value = value\n",
    "        self.left = None\n",
    "        self.right = None\n",
    "        self.parent = None\n",
    "        self.dim = None\n",
    "\n",
    "    def SetNodeVal(self, val):\n",
    "        self.value = val\n",
    "\n",
    "def MakeKdP(TrainData, j, k):\n",
    "    \"\"\"\n",
    "    根据输入数据，递归构造二叉 kd 树。\n",
    "    Modify: 加了parent指针\n",
    "    :param TrainData: 输入数据\n",
    "    :param j: kd 树的深度，从0开始\n",
    "    :param k: 特征向量的总维数\n",
    "    :return: kd树\n",
    "    \"\"\"\n",
    "    if len(TrainData) >= 1:\n",
    "        left, mid, right = MakeItem(TrainData, j % k )\n",
    "        node = BinaryTreeP(mid[0])\n",
    "        node.dim = j % k\n",
    "        if len(left) >= 1:\n",
    "            node.left = MakeKdP(left, j + 1, k)\n",
    "            node.left.parent = node\n",
    "            node.left.dim = (j + 1 ) % k\n",
    "        if len(right) >= 1:\n",
    "            node.right = MakeKdP(right, j + 1, k)\n",
    "            node.right.dim = (j + 1) % k\n",
    "            node.right.parent = node\n",
    "    return node\n",
    "# step.1 找出包含目标点x的叶节点\n",
    "def LayerNode(root, x ):\n",
    "    if root.left != None or root.right != None:\n",
    "        if x[root.dim] < root.value[root.dim]:\n",
    "            if root.left:\n",
    "                node = LayerNode(root.left, x)\n",
    "        else:\n",
    "            if root.right:\n",
    "                node = LayerNode(root.right, x)\n",
    "    else:\n",
    "        return root\n",
    "    return node\n",
    "\n",
    "# step 2 递归地后退\n",
    "def Back(node, x, leastnodes, p, visted):\n",
    "    if node.parent :\n",
    "        # a. 检查当前结点结点\n",
    "        parent = node.parent\n",
    "        if Lp_distance(p, node.value, x) < leastnodes[1]:\n",
    "            leastnodes = [node.value, Lp_distance(p, node.value, x)]\n",
    "        visted[str(node.value)] = True\n",
    "        # b. 兄弟结点\n",
    "        brother = parent.left\n",
    "        if brother == node:\n",
    "            brother = parent.right\n",
    "        if visted[str(brother.value)] == False:\n",
    "            # 如果兄弟结点没有被递归，且父结点[dim] - target[dim] < 当前最近距离\n",
    "            # 说明，父结点中存在有最小近邻点的子实例结点\n",
    "            if parent.value[parent.dim] - x[parent.dim] < leastnodes[1]:\n",
    "                visted[str(brother.value)] = True\n",
    "                layer = LayerNode(brother, x)\n",
    "                leastnodes = Back(layer, x, leastnodes, p, visted)\n",
    "        leastnodes = Back(parent, x, leastnodes, p, visted)\n",
    "    return leastnodes\n"
   ],
   "metadata": {
    "collapsed": false,
    "pycharm": {
     "name": "#%%\n"
    }
   }
  },
  {
   "cell_type": "code",
   "execution_count": 245,
   "outputs": [
    {
     "name": "stdout",
     "output_type": "stream",
     "text": [
      "[(2, 3), 1.8027756377319946]\n"
     ]
    }
   ],
   "source": [
    "# 数据\n",
    "train_data = [(2, 3), (5, 4), (9, 6), (4, 7), (8, 1), (7, 2)]\n",
    "# KD树\n",
    "root = MakeKdP(train_data, 0, 2)\n",
    "# 目标点\n",
    "s = (3, 4.5)\n",
    "layer = LayerNode(root, s)\n",
    "least = [layer.value, Lp_distance(2, layer.value, s)]\n",
    "vists = {}\n",
    "for item in train_data:\n",
    "    if item not in vists.keys():\n",
    "        vists[str(item)] = False\n",
    "\n",
    "A = Back(layer, s, least, 2, vists)\n",
    "print(A)"
   ],
   "metadata": {
    "collapsed": false,
    "pycharm": {
     "name": "#%%\n"
    }
   }
  },
  {
   "cell_type": "markdown",
   "source": [
    "#### (2) 借助sklearn"
   ],
   "metadata": {
    "collapsed": false,
    "pycharm": {
     "name": "#%% md\n"
    }
   }
  },
  {
   "cell_type": "code",
   "execution_count": 262,
   "outputs": [
    {
     "name": "stdout",
     "output_type": "stream",
     "text": [
      "(2， 3) 的 最近邻点 ：  (2, 3)\n"
     ]
    }
   ],
   "source": [
    "import numpy as np\n",
    "from sklearn.neighbors import KDTree\n",
    "\n",
    "train_data = [(2, 3), (5, 4), (9, 6), (4, 7), (8, 1), (7, 2)]\n",
    "# 构造平衡Kd树\n",
    "kdtree = KDTree(np.array(train_data), leaf_size=2)\n",
    "# 查询（3, 4.5) 的最近邻点\n",
    "# dist: 最近邻点与目标点的距离\n",
    "# ind: 最近邻点在输入数据中的序号\n",
    "dist, ind = kdtree.query(np.array([[3, 4.5]]), k=1)\n",
    "print(\"(2， 3) 的 最近邻点 ： \", train_data[ind.squeeze()])"
   ],
   "metadata": {
    "collapsed": false,
    "pycharm": {
     "name": "#%%\n"
    }
   }
  },
  {
   "cell_type": "markdown",
   "source": [
    "### 3.3 参照算法3.3，写出输出为x的k近邻的算法\n",
    "**输入**：已构造的kd树，目标点$x$，$k$值\n",
    "**输出**：x的k近邻点集S\n",
    "\n",
    "（1）在kd树找出包含目标点x的叶结点：从根节点出发，递归地向下访问kd树，若目标点x当前维（与kd树的深度有关l = j % k + 1）的坐标小于当前所在的切分点的坐标，则移动到左子结点，否则，移动到右子结点。**直到当前的结点为叶结点为止**。\n",
    "（2）以此叶节点为“当前最近点”，并插入近邻点集S中。\n",
    "（3）递归地向上后退：\n",
    "- (a)如果当前的“近邻点集S”的元素个数小于k,将结点A插入到近邻点集S。如果当前结点到目标点x的距离小于近邻点集S中某个点B到目标点的距离，就将当前点A插入，结点B丢弃。\n",
    "- (b)检查当前结点A的兄弟结点C是否与以目标点x为球心、以目标点x到当前近邻点集S中的最远距离为半径的超球体相交。(判读相交：C[C.dim] - X[C.dim] < distance(x到S中点的最大距离))。如果相交，就使用（1）的方法来搜索以兄弟节点C为根节点的子KD树。如果不相交，退回到当前结点A的父母结点P。、\n",
    "\n",
    "（4）一直重复下去，直到当前结点为KD树的根结点。此时的近邻点集S为目标X的k近邻点集"
   ],
   "metadata": {
    "collapsed": false,
    "pycharm": {
     "name": "#%% md\n"
    }
   }
  },
  {
   "cell_type": "code",
   "execution_count": null,
   "outputs": [],
   "source": [],
   "metadata": {
    "collapsed": false,
    "pycharm": {
     "name": "#%%\n"
    }
   }
  }
 ],
 "metadata": {
  "kernelspec": {
   "display_name": "Python 3",
   "language": "python",
   "name": "python3"
  },
  "language_info": {
   "codemirror_mode": {
    "name": "ipython",
    "version": 2
   },
   "file_extension": ".py",
   "mimetype": "text/x-python",
   "name": "python",
   "nbconvert_exporter": "python",
   "pygments_lexer": "ipython2",
   "version": "2.7.6"
  }
 },
 "nbformat": 4,
 "nbformat_minor": 0
}