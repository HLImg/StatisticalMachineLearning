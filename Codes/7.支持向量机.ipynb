{
 "cells": [
  {
   "cell_type": "markdown",
   "source": [
    "## 7.1 线性可分支持向量机\n",
    "### 例 7.2\n",
    "训练数据集为T，其中正例点为$x_1 = (3, 3)^T, x_2=(4, 3)^T$，负例点为$x_3=(1, 1)^T$，试用算法 7.2 求**线性可分支支持向量机**\n",
    "\n",
    "根据*算法7.2*，负对偶问题表示如下\n",
    "$$\n",
    "\\begin{aligned}\n",
    "\\min_{\\alpha} &\\frac{1}{2}\\sum_{i=1}^N\\sum_{j=1}^N{\\alpha_i\\alpha_j y_i y_j(x_i\\cdot x_j)} - \\sum_{i=1}^N \\alpha_i\\\\\n",
    "&=\\frac{1}{2}(18 \\alpha_1^2  + 21\\alpha_1\\alpha_2 - 6\\alpha_1\\alpha_3 + 25\\alpha_2^2 + 21\\alpha_1\\alpha_2 - 7\\alpha_2\\alpha_3 + 2\\alpha_3^2 - 6\\alpha_1\\alpha_3 - 7\\alpha_2\\alpha_3) - \\sum_{i=1}^3 \\alpha_i\\\\\n",
    "&=\\frac{1}{2}(18\\alpha_1^2 + 25\\alpha_2^2 + 2\\alpha_3^2 + 42\\alpha_1\\alpha_2 - 12\\alpha_1\\alpha_3 - 14\\alpha_2\\alpha_3) - \\sum_{i=1}^3 \\alpha_i\\\\\n",
    "\\text{s.t.} & \\sum_{i=1}y_i\\alpha_i = \\alpha_1 + \\alpha_2 - \\alpha_3 = 0\\\\\n",
    "&\\alpha_i \\ge 0, i = 1, 2,\\cdots, N\n",
    "\\end{aligned}\n",
    "$$"
   ],
   "metadata": {
    "collapsed": false
   }
  },
  {
   "cell_type": "code",
   "execution_count": 1,
   "outputs": [
    {
     "name": "stdout",
     "output_type": "stream",
     "text": [
      "state : True, alpha[0] = 0.2499999819147799, alpha[1] = 5.822165666247159e-17, alpha[2] = 0.24999998191477996\n"
     ]
    }
   ],
   "source": [
    "import numpy as np\n",
    "from scipy.optimize import minimize\n",
    "# 负对偶问题\n",
    "func = lambda alpha : 9 * (alpha[0] ** 2) + 12.5 * (alpha[1] ** 2) + alpha[2] ** 2 + 21 * alpha[0] * alpha[1] - 6 * alpha[0] * alpha[2] - 7 * alpha[1] * alpha[2] - alpha[0] - alpha[1] - alpha[2]\n",
    "# 约束条件\n",
    "contraints = (\n",
    "    {'type' : 'eq', 'fun' : lambda alpha : alpha[0] + alpha[1] - alpha[2]},\n",
    "    {'type' : 'ineq', 'fun' : lambda alpha : alpha[0]},\n",
    "    {'type' : 'ineq', 'fun' : lambda alpha : alpha[1]},\n",
    "    {'type' : 'ineq', 'fun' : lambda alpha : alpha[2]}\n",
    ")\n",
    "# 优化的初始值\n",
    "alpha = np.array([0.0, 0.0, 0.0])\n",
    "# 使用scipy进行目标优化\n",
    "res = minimize(fun=func, x0=alpha, method='SLSQP', constraints=contraints)\n",
    "# 打印优化结果，由于浮点数精度的原因，输出与实际有所误差\n",
    "print(f\"state : {res.success}, alpha[0] = {res.x[0]}, alpha[1] = {res.x[1]}, alpha[2] = {res.x[2]}\")"
   ],
   "metadata": {
    "collapsed": false
   }
  },
  {
   "cell_type": "markdown",
   "source": [
    "**从上述输出结果来看**，求得**拉格朗日算子的近似解**$\\alpha = (0.25, 0, 0.25)^T$。下一步，根据算法 7.2 提供的公式，求得参数$w^*, b^*$。\n",
    "$$\n",
    "\\begin{aligned}\n",
    "w^* &= \\alpha_1(3,  3) + \\alpha_2 (4 ,  3) - \\alpha_3 (1 ,  1)\\\\\n",
    "&= (3\\alpha_1, 3\\alpha_1) + (4\\alpha_2, 3\\alpha_2) - (\\alpha_3, \\alpha_3) \\\\\n",
    "&=(3\\alpha_1 + 4\\alpha_2 - \\alpha_3 , 3 \\alpha_1 + 3\\alpha_2 - \\alpha_3)\\\\\n",
    "&= (\\frac{1}{2}, \\frac{1}{2})\\\\\n",
    "b^* &=y_j - \\sum_{i=1}^N\\alpha^* y_i(x_i\\cdot x_j)\\\\\n",
    "&=y_1 - \\sum_{i=1}^N\\alpha^*_i y_i(x_i\\cdot x_1)\\\\\n",
    "&= 1 - (0.25 * 18 + 0 * 21 - 0.25  * 6)\\\\\n",
    "&= -2\n",
    "\\end{aligned}\n",
    "$$\n",
    "所以，线性可分SVM的线性可分超平面表示如下\n",
    "$$\n",
    "\\begin{aligned}\n",
    "\\frac{1}{2}x^{(1)} + \\frac{1}{2} x^{(2)} -2 = 0\n",
    "\\end{aligned}\n",
    "$$"
   ],
   "metadata": {
    "collapsed": false
   }
  },
  {
   "cell_type": "markdown",
   "source": [
    "**下面是基于对偶学习算法的线性可分SVM模型**"
   ],
   "metadata": {
    "collapsed": false
   }
  },
  {
   "cell_type": "code",
   "execution_count": 176,
   "outputs": [],
   "source": [
    "class LsSVM:\n",
    "    \"\"\"Linear Separable Support Vector Machine\"\"\"\n",
    "    def __init__(self, dataset, alpha):\n",
    "        \"\"\"\n",
    "        :param dataset: {data : label}\n",
    "        \"\"\"\n",
    "        self.dataset = dataset\n",
    "        self.alpha_num = self.dataset.__len__()\n",
    "        self.alpha = np.array(alpha)\n",
    "        # contraints\n",
    "        constraints_eq = [\n",
    "            {'type' : 'ineq', 'fun' : lambda alpha, i=i : alpha[i]} for i in range(self.alpha_num)\n",
    "        ]\n",
    "        constraints_ineq = [\n",
    "            {'type' : 'eq', 'fun' : self.ineq}\n",
    "        ]\n",
    "        self.constraints = tuple(constraints_eq + constraints_ineq)\n",
    "\n",
    "    def function(self, alpha):\n",
    "        \"\"\" minimize the negative dual problem \"\"\"\n",
    "        value = 0\n",
    "        for i, key_i in enumerate(self.dataset):\n",
    "            x_i = np.array(key_i)\n",
    "            y_i = np.array(self.dataset[key_i])\n",
    "            alpha_i = alpha[i]\n",
    "            for j, key_j in enumerate(self.dataset):\n",
    "                x_j = np.array(key_j)\n",
    "                y_j = np.array(self.dataset[key_j])\n",
    "                alpha_j = alpha[j]\n",
    "                value = value + alpha_j * alpha_i * y_i * y_j * sum(x_i * x_j)\n",
    "        value = value * 0.5 - sum(alpha)\n",
    "        return value\n",
    "\n",
    "    def ineq(self, alpha):\n",
    "        value = 0\n",
    "        for i, key_i in enumerate(self.dataset):\n",
    "            value = value + alpha[i] * np.array(self.dataset[key_i])\n",
    "        return value\n",
    "\n",
    "    def optimize(self, method='SLSQP'):\n",
    "        print('# -------------------------------------------------- #')\n",
    "        print('#            minimize negative problem               #')\n",
    "        print('# ----- -------------------------------------------- #')\n",
    "        res = minimize(fun=self.function, x0=self.alpha, method=method, constraints=self.constraints)\n",
    "        print(f\"state : {res.success}\")\n",
    "        for i in range(1, self.alpha_num + 1):\n",
    "            print(f\"alpha_{i} = {res.x[i - 1]}\")\n",
    "        print(res.message)\n",
    "        self.res = res\n",
    "        self.w = self.get_w(res.x)\n",
    "        self.b = self.get_b(res.x)\n",
    "\n",
    "        print('# -------------------------------------------------- #')\n",
    "        print('#                  solve w and b                     #')\n",
    "        print('# -------------------------------------------------- #')\n",
    "        print(f\"w = {self.w}\")\n",
    "        print(f\"b = {self.b}\")\n",
    "        print('# -------------------------------------------------- #')\n",
    "        print('#                     finish                         #')\n",
    "        print('# ----- -------------------------------------------- #')\n",
    "\n",
    "    def get_w(self, alpha):\n",
    "        w = 0\n",
    "        for idx, key_i in enumerate(self.dataset):\n",
    "            x_i = np.array(key_i)\n",
    "            y_i = np.array(self.dataset[key_i])\n",
    "            alpha_i = alpha[idx]\n",
    "            w = w + alpha_i * y_i * x_i\n",
    "        return w\n",
    "\n",
    "    def get_b(self, alpha):\n",
    "        for idx, key in enumerate(self.dataset):\n",
    "            if alpha[idx] > 0:\n",
    "                x_j = np.array(key)\n",
    "                y_j = np.array(self.dataset[key])\n",
    "                break\n",
    "        b = y_j\n",
    "        for idx, key_i in enumerate(self.dataset):\n",
    "            x_i = np.array(key_i)\n",
    "            y_i = np.array(self.dataset[key_i])\n",
    "            alpha_i = alpha[idx]\n",
    "            b = b - alpha_i * y_i * sum(x_i * x_j)\n",
    "        return b\n",
    "\n",
    "    def predict(self, input):\n",
    "        \"\"\"\n",
    "        decision function for Linear Separable SVM\n",
    "        :param input: x1(2, 2)\n",
    "        :return: predict label\n",
    "        \"\"\"\n",
    "        distance = 0\n",
    "        for i in range(len(input)):\n",
    "            distance = distance + self.w[i] * input[i]\n",
    "        distance = distance + self.b\n",
    "        return self.sign(distance)\n",
    "\n",
    "\n",
    "    def sign(self, x):\n",
    "        if x >= 0 :\n",
    "            return 1\n",
    "        else:\n",
    "            return -1\n",
    "\n",
    "\n"
   ],
   "metadata": {
    "collapsed": false
   }
  },
  {
   "cell_type": "markdown",
   "source": [
    "**演示过程**"
   ],
   "metadata": {
    "collapsed": false
   }
  },
  {
   "cell_type": "code",
   "execution_count": 193,
   "outputs": [
    {
     "name": "stdout",
     "output_type": "stream",
     "text": [
      "# -------------------------------------------------- #\n",
      "#            minimize negative problem               #\n",
      "# ----- -------------------------------------------- #\n",
      "state : True\n",
      "alpha_1 = 3.6107595225109526\n",
      "alpha_2 = -5.43085005472703e-15\n",
      "alpha_3 = -1.8332906650186267e-15\n",
      "alpha_4 = 3.2363434848692307e-16\n",
      "alpha_5 = 1.7220325729002315\n",
      "alpha_6 = 1.8887269496107202\n",
      "alpha_7 = -5.850405205605347e-15\n",
      "Optimization terminated successfully\n",
      "# -------------------------------------------------- #\n",
      "#                  solve w and b                     #\n",
      "# ----- -------------------------------------------- #\n",
      "w = [ 2.66639605 -0.33338875]\n",
      "b = -3.3326258351482188\n",
      "# -------------------------------------------------- #\n",
      "#                     finish                         #\n",
      "# ----- -------------------------------------------- #\n"
     ]
    }
   ],
   "source": [
    "import matplotlib.pyplot as plt\n",
    "# 训练数据集 （与例7.2一致）\n",
    "dataset = { (2, 3) : 1, (4, 2) : 1, (5, 5) : 1, (2, 2) : 1, (1, 1): -1, (1.5, 5) : -1, (0.5, 4) : -1}\n",
    "# 拉格朗日算子的初始值（任意）\n",
    "alpha = [0.] * dataset.__len__()\n",
    "# 初始化 线性可分SVM模型\n",
    "lsvm = LsSVM(dataset, alpha)\n",
    "# 求解 拉格朗日算子 和 w, b 参数\n",
    "lsvm.optimize()"
   ],
   "metadata": {
    "collapsed": false
   }
  },
  {
   "cell_type": "code",
   "execution_count": 197,
   "outputs": [
    {
     "data": {
      "text/plain": "<matplotlib.legend.Legend at 0x24345968b50>"
     },
     "execution_count": 197,
     "metadata": {},
     "output_type": "execute_result"
    },
    {
     "data": {
      "text/plain": "<Figure size 640x480 with 1 Axes>",
      "image/png": "[encoded data removed]"
     },
     "metadata": {},
     "output_type": "display_data"
    }
   ],
   "source": [
    "# 预测\n",
    "label_positive = [[], []]\n",
    "label_negative = [[], []]\n",
    "for key in dataset.keys():\n",
    "    if dataset[key] == 1:\n",
    "        label_positive[0].append(key[0])\n",
    "        label_positive[1].append(key[1])\n",
    "    else:\n",
    "        label_negative[0].append(key[0])\n",
    "        label_negative[1].append(key[1])\n",
    "\n",
    "plt.plot(label_positive[0], label_positive[1], 'bo', label=\"Train Points, label : 1\")\n",
    "plt.plot(label_negative[0], label_negative[1], 'ro', label=\"Train Points, label : -1\")\n",
    "\n",
    "x = np.linspace(0, 6, 1000)\n",
    "y = lambda x : -1 * (lsvm.w[0] * x + lsvm.b) / lsvm.w[1]\n",
    "plt.plot(x, y(x), label=\"ls-svm\")\n",
    "plt.xlim(0, 6)\n",
    "plt.ylim(0, 6)\n",
    "plt.xlabel(\"x1\")\n",
    "plt.ylabel(\"x2\")\n",
    "plt.legend()"
   ],
   "metadata": {
    "collapsed": false
   }
  },
  {
   "cell_type": "markdown",
   "source": [
    "## 7.2 线性支持向量机与软间隔最大化\n",
    "![image-20230227185217412](https://qiniu.lianghao.work/image-20230227185217412.png)"
   ],
   "metadata": {
    "collapsed": false
   }
  },
  {
   "cell_type": "code",
   "execution_count": 198,
   "outputs": [],
   "source": [
    "class LinearSVM:\n",
    "    \"\"\"Linear Support Vector Machine\"\"\"\n",
    "    def __init__(self, dataset, alpha, c):\n",
    "        \"\"\"\n",
    "        :param dataset: {data : label}\n",
    "        :param alpha: initial alpha\n",
    "        :param c: penalty value\n",
    "        \"\"\"\n",
    "        self.dataset = dataset\n",
    "        self.alpha_num = self.dataset.__len__()\n",
    "        self.c = c\n",
    "        self.alpha = np.array(alpha)\n",
    "        # contraints\n",
    "        constraints_eq = [\n",
    "            {'type' : 'ineq', 'fun' : lambda alpha, i=i : alpha[i]} for i in range(self.alpha_num)\n",
    "        ] + [{'type' : 'ineq', 'fun' : lambda alpha, i=i : self.c - alpha[i]} for i in range(self.alpha_num)]\n",
    "        constraints_ineq = [\n",
    "            {'type' : 'eq', 'fun' : self.ineq}\n",
    "        ]\n",
    "        self.constraints = tuple(constraints_eq + constraints_ineq)\n",
    "\n",
    "    def function(self, alpha):\n",
    "        \"\"\" minimize the negative dual problem \"\"\"\n",
    "        value = 0\n",
    "        for i, key_i in enumerate(self.dataset):\n",
    "            x_i = np.array(key_i)\n",
    "            y_i = np.array(self.dataset[key_i])\n",
    "            alpha_i = alpha[i]\n",
    "            for j, key_j in enumerate(self.dataset):\n",
    "                x_j = np.array(key_j)\n",
    "                y_j = np.array(self.dataset[key_j])\n",
    "                alpha_j = alpha[j]\n",
    "                value = value + alpha_j * alpha_i * y_i * y_j * sum(x_i * x_j)\n",
    "        value = value * 0.5 - sum(alpha)\n",
    "        return value\n",
    "\n",
    "    def ineq(self, alpha):\n",
    "        value = 0\n",
    "        for i, key_i in enumerate(self.dataset):\n",
    "            value = value + alpha[i] * np.array(self.dataset[key_i])\n",
    "        return value\n",
    "\n",
    "    def optimize(self, method='SLSQP'):\n",
    "        print('# -------------------------------------------------- #')\n",
    "        print('#            minimize negative problem               #')\n",
    "        print('# ----- -------------------------------------------- #')\n",
    "        res = minimize(fun=self.function, x0=self.alpha, method=method, constraints=self.constraints)\n",
    "        print(f\"state : {res.success}\")\n",
    "        for i in range(1, self.alpha_num + 1):\n",
    "            print(f\"alpha_{i} = {res.x[i - 1]}\")\n",
    "        print(res.message)\n",
    "        self.res = res\n",
    "        self.w = self.get_w(res.x)\n",
    "        self.b = self.get_b(res.x)\n",
    "\n",
    "        print('# -------------------------------------------------- #')\n",
    "        print('#                  solve w and b                     #')\n",
    "        print('# -------------------------------------------------- #')\n",
    "        print(f\"w = {self.w}\")\n",
    "        print(f\"b = {self.b}\")\n",
    "        print('# -------------------------------------------------- #')\n",
    "        print('#                     finish                         #')\n",
    "        print('# ----- -------------------------------------------- #')\n",
    "\n",
    "    def get_w(self, alpha):\n",
    "        w = 0\n",
    "        for idx, key_i in enumerate(self.dataset):\n",
    "            x_i = np.array(key_i)\n",
    "            y_i = np.array(self.dataset[key_i])\n",
    "            alpha_i = alpha[idx]\n",
    "            w = w + alpha_i * y_i * x_i\n",
    "        return w\n",
    "\n",
    "    def get_b(self, alpha):\n",
    "        for idx, key in enumerate(self.dataset):\n",
    "            if alpha[idx] > 0 and alpha[idx] < self.c:\n",
    "                x_j = np.array(key)\n",
    "                y_j = np.array(self.dataset[key])\n",
    "                break\n",
    "        b = y_j\n",
    "        for idx, key_i in enumerate(self.dataset):\n",
    "            x_i = np.array(key_i)\n",
    "            y_i = np.array(self.dataset[key_i])\n",
    "            alpha_i = alpha[idx]\n",
    "            b = b - alpha_i * y_i * sum(x_i * x_j)\n",
    "        return b\n",
    "\n",
    "    def predict(self, input):\n",
    "        \"\"\"\n",
    "        decision function for Linear Separable SVM\n",
    "        :param input: x1(2, 2)\n",
    "        :return: predict label\n",
    "        \"\"\"\n",
    "        distance = 0\n",
    "        for i in range(len(input)):\n",
    "            distance = distance + self.w[i] * input[i]\n",
    "        distance = distance + self.b\n",
    "        return self.sign(distance)\n",
    "\n",
    "\n",
    "    def sign(self, x):\n",
    "        if x >= 0 :\n",
    "            return 1\n",
    "        else:\n",
    "            return -1"
   ],
   "metadata": {
    "collapsed": false
   }
  },
  {
   "cell_type": "code",
   "execution_count": null,
   "outputs": [],
   "source": [],
   "metadata": {
    "collapsed": false
   }
  }
 ],
 "metadata": {
  "kernelspec": {
   "display_name": "Python 3",
   "language": "python",
   "name": "python3"
  },
  "language_info": {
   "codemirror_mode": {
    "name": "ipython",
    "version": 2
   },
   "file_extension": ".py",
   "mimetype": "text/x-python",
   "name": "python",
   "nbconvert_exporter": "python",
   "pygments_lexer": "ipython2",
   "version": "2.7.6"
  }
 },
 "nbformat": 4,
 "nbformat_minor": 0
}
