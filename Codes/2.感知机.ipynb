{
 "cells": [
  {
   "cell_type": "markdown",
   "metadata": {
    "collapsed": true
   },
   "source": [
    "# 第 2 章 感知机\n",
    "## 2.3 感知机学习算法\n",
    "### 例 2.1\n",
    "如下图所示的训练数据集，其正实例点$x_1=(3, 3)^T, x_2=(4, 3)^T$, 负实例点$x_3=(1, 1)^T$，试用感知机算法的原始形式求感知机模型$f(x)=sign(w\\cdot x + b)$。这里，$w=(w^{(1)}, w^{(2)})^T, x=(x^{(1)}, x^{(2)})^T$。\n",
    "![](https://qiniu.lianghao.work/markdown/20220412215305.png)"
   ]
  },
  {
   "cell_type": "code",
   "execution_count": 1,
   "outputs": [],
   "source": [
    "import numpy as np\n",
    "import scipy.optimize as optim\n",
    "import matplotlib.pyplot as plt\n",
    "%matplotlib inline"
   ],
   "metadata": {
    "collapsed": false
   }
  },
  {
   "cell_type": "code",
   "execution_count": 2,
   "outputs": [],
   "source": [
    "def distance(w, b, x):\n",
    "    w = np.array(w).reshape((-1, 1))\n",
    "    x = np.array(x)\n",
    "    return x.dot(w)[0] + b\n",
    "\n",
    "def sign(w, b, x):\n",
    "\n",
    "    if distance(w, b, x) >= 0:\n",
    "        return 1\n",
    "    else:\n",
    "        return -1\n",
    "\n",
    "def sgd(w, b, x, y,  lr):\n",
    "    w = np.array(w)\n",
    "    x = np.array(x)\n",
    "    w = w + lr * y * x\n",
    "    b = b + lr * y\n",
    "    return w, b\n",
    "\n",
    "# 初始化， 开始迭代运算\n",
    "def Train1(train_in, train_out, lr):\n",
    "    w, b  = [0, 0], 0\n",
    "    flag = 0\n",
    "\n",
    "    while flag < len(train_in):\n",
    "        flag = 0\n",
    "        for i in range(0, len(train_in)):\n",
    "            if train_out[i] * distance(w, b, train_in[i]) <= 0:\n",
    "                # 出现误分类时，进行梯度下降\n",
    "                w, b = sgd(w, b, train_in[i], train_out[i], lr)\n",
    "                print(\"x\" + str(i + 1), \"  \", \"   \", w, \"   \", b)\n",
    "            else:\n",
    "                flag = flag + 1\n",
    "    return w, b\n",
    "def linearY(w, b, x):\n",
    "    return -1 * (w[0] / w[1]) * x - b / w[1]"
   ],
   "metadata": {
    "collapsed": false
   }
  },
  {
   "cell_type": "code",
   "execution_count": 3,
   "outputs": [],
   "source": [
    "train_in = [[3, 3], [4, 3], [1, 1]]\n",
    "train_out = [1, 1, -1]"
   ],
   "metadata": {
    "collapsed": false
   }
  },
  {
   "cell_type": "code",
   "execution_count": 4,
   "outputs": [
    {
     "name": "stdout",
     "output_type": "stream",
     "text": [
      "x1        [3 3]     1\n",
      "x3        [2 2]     0\n",
      "x3        [1 1]     -1\n",
      "x3        [0 0]     -2\n",
      "x1        [3 3]     -1\n",
      "x3        [2 2]     -2\n",
      "x3        [1 1]     -3\n"
     ]
    },
    {
     "data": {
      "text/plain": "<matplotlib.legend.Legend at 0x23682373520>"
     },
     "execution_count": 4,
     "metadata": {},
     "output_type": "execute_result"
    },
    {
     "data": {
      "text/plain": "<Figure size 640x480 with 1 Axes>",
      "image/png": "[encoded data removed]"
     },
     "metadata": {},
     "output_type": "display_data"
    }
   ],
   "source": [
    "w, b = Train1(train_in, train_out, 1)\n",
    "# 绘制图像\n",
    "plt.plot([train_in[i][0]for i in range(len(train_in))] , [train_in[i][1]for i in range(len(train_in))], 'bo', label=\"Train Points\")\n",
    "x = np.linspace(0, 6, 1000)\n",
    "y = linearY(w, b, x)\n",
    "plt.plot(x, y, label=\"Predict:x1, x2, x3\")\n",
    "plt.plot(x, -3 * x + 5, label=\"Predict:x1, x3, x2\")\n",
    "plt.xlim(0, 6)\n",
    "plt.ylim(0, 6)\n",
    "plt.xlabel(\"x1\")\n",
    "plt.ylabel(\"x2\")\n",
    "plt.legend()"
   ],
   "metadata": {
    "collapsed": false
   }
  },
  {
   "cell_type": "markdown",
   "source": [
    "### 例 2.2\n",
    "其正实例点$x_1=(3, 3)^T, x_2=(4, 3)^T$, 负实例点$x_3=(1, 1)^T$,试用感知机学习算法对偶形式求感知机模型"
   ],
   "metadata": {
    "collapsed": false
   }
  },
  {
   "cell_type": "code",
   "execution_count": 5,
   "outputs": [],
   "source": [
    "import numpy as np\n",
    "import scipy.optimize as optim\n",
    "import matplotlib.pyplot as plt\n",
    "%matplotlib inline"
   ],
   "metadata": {
    "collapsed": false
   }
  },
  {
   "cell_type": "code",
   "execution_count": 6,
   "outputs": [],
   "source": [
    "def Gmatrix(train_in):\n",
    "    G = []\n",
    "    for i in range(0, len(train_in)):\n",
    "        tmp = []\n",
    "        for j in range(0,len(train_in)):\n",
    "            tmp.append(np.array(train_in[i]).dot(np.array(train_in[j])))\n",
    "        G.append(tmp)\n",
    "    return np.array(G)\n",
    "\n",
    "def Error(alpha, b, G, train_out, x_index):\n",
    "    \"\"\"\n",
    "\n",
    "    :param alpha: type : list\n",
    "    :param b: 偏置 type: int\n",
    "    :param G: 内积矩阵 type : np.array([N][N])\n",
    "    :param train_out: type\n",
    "    :param x_index: xi的序号\n",
    "    :return: True: xi被误分类\n",
    "    \"\"\"\n",
    "    sum = 0.0\n",
    "    for j in range(len(alpha)):\n",
    "        sum = sum + alpha[j] * train_out[j] * G[j][x_index]\n",
    "    if train_out[x_index] * (sum + b) <= 0:\n",
    "        return True\n",
    "    return False\n",
    "def Train2(train_in, train_out, lr):\n",
    "    # 初始化\n",
    "    w, alpha, b, flag = np.array([0, 0]), np.array([0, 0, 0]), 0, 0\n",
    "    G = Gmatrix(train_in)\n",
    "    while flag < len(train_in):\n",
    "        flag = 0\n",
    "        for i in range(0, len(train_in)):\n",
    "            if Error(alpha, b, G, train_out, i) == True:\n",
    "                print(\"x\" + str(i+1), alpha[0], \" \", alpha[1], \" \", alpha[2], \" \", b)\n",
    "                alpha[i] = alpha[i] + lr\n",
    "                b = b + lr * train_out[i]\n",
    "            else:\n",
    "                flag = flag + 1\n",
    "\n",
    "    for i in range(0, len(train_in)):\n",
    "        w = w + alpha[i] * train_out[i] * np.array(train_in[i])\n",
    "    return w, b\n",
    "\n",
    "def linearY(w, b, x):\n",
    "    return -1 * (w[0] / w[1]) * x - b / w[1]"
   ],
   "metadata": {
    "collapsed": false
   }
  },
  {
   "cell_type": "code",
   "execution_count": 7,
   "outputs": [
    {
     "name": "stdout",
     "output_type": "stream",
     "text": [
      "x1 0   0   0   0\n",
      "x3 1   0   0   1\n",
      "x3 1   0   1   0\n",
      "x3 1   0   2   -1\n",
      "x1 1   0   3   -2\n",
      "x3 2   0   3   -1\n",
      "x3 2   0   4   -2\n"
     ]
    },
    {
     "data": {
      "text/plain": "<matplotlib.legend.Legend at 0x23682c87700>"
     },
     "execution_count": 7,
     "metadata": {},
     "output_type": "execute_result"
    },
    {
     "data": {
      "text/plain": "<Figure size 640x480 with 1 Axes>",
      "image/png": "[encoded data removed]"
     },
     "metadata": {},
     "output_type": "display_data"
    }
   ],
   "source": [
    "train_in = [[3, 3], [4, 3], [1, 1]]\n",
    "train_out = [1, 1, -1]\n",
    "# 绘制图像\n",
    "plt.plot([train_in[i][0]for i in range(len(train_in))] , [train_in[i][1]for i in range(len(train_in))], 'bo', label=\"Train Points\")\n",
    "x = np.linspace(0, 6, 1000)\n",
    "w, b = Train2(train_in, train_out, 1)\n",
    "y = linearY(w, b, x)\n",
    "plt.plot(x, y, label=\"Predict:x1, x2, x3\")\n",
    "plt.xlim(0, 6)\n",
    "plt.ylim(0, 6)\n",
    "plt.xlabel(\"x1\")\n",
    "plt.ylabel(\"x2\")\n",
    "plt.legend()"
   ],
   "metadata": {
    "collapsed": false
   }
  },
  {
   "cell_type": "markdown",
   "source": [
    "## 习题\n",
    "### 2.1 Minsky 和 Papert指出： 感知机因为是线性模型，所以不能表示复杂的函数，如异或。 验证感知机为什么不能表示异或（XOR）\n",
    "证明：\n",
    "给定数据集$T={(x_1, y_1), (x_2, y_2), (x_3, y_3), (x_4, y_4)}$，其中$x_i=(\\alpha, \\beta)^T, y_i \\in \\{0, 1\\}$.\n",
    "**假设给定的数据集是线性可分的，即存在一个可分离平面$wx+b$将数据集分为两类**，其中$w=(w_1, w_2)^T$, 数据集中的正实例点为$x_1(0, 0),x_2(1, 1)$，负实例点为$x_3(0, 1), x_4(1, 0)$\n",
    "$$\n",
    "\\begin{aligned}\n",
    "(1):\\ wx_1 + b > 0 \\\\\n",
    "(2):\\ wx_2 + b > 0 \\\\\n",
    "(3):\\ wx_3 + b \\le 0 \\\\\n",
    "(4):\\ wx_4 + b \\le 0\n",
    "\\end{aligned}\n",
    "$$\n",
    "简化为\n",
    "$$\n",
    "\\begin{aligned}\n",
    "(1):\\ b > 0\\\\\n",
    "(2):\\ \\alpha \\cdot u + \\beta \\cdot v + b > 0\\\\\n",
    "(3):\\ \\alpha \\cdot u + b \\le 0\\\\\n",
    "(4):\\ \\beta \\cdot v + b \\le 0\n",
    "\\end{aligned}\n",
    "$$\n",
    "将其中$(1),(2)$项相加,$(3), (4)$项相加，并分别表示如下：\n",
    "$$\n",
    "\\begin{aligned}\n",
    "\\alpha \\cdot u + \\beta \\cdot v + 2b > 0 \\\\\n",
    "\\alpha \\cdot u + \\beta \\cdot v + 2b \\le 0\n",
    "\\end{aligned}\n",
    "$$\n",
    "结果明显相悖，因此，可证：**单层感知机不能表示异或（XOR）**"
   ],
   "metadata": {
    "collapsed": false
   }
  },
  {
   "cell_type": "markdown",
   "source": [
    "### 2.2 模仿 例题2.1， 构建训练集求解感知机模型的例子\n",
    "正实例点$x_1=(2, 3)^T, x_2=(4, 2)^T， x_3=(5, 5), x_4=(2, 2)^T^T$, 负实例点$x_5=(1, 1)^T, x_6=(1.5, 5)^T, x_7=(0.5, 3)^T$\n",
    "![](https://qiniu.lianghao.work/markdown/20220413215305.png)\n",
    "![](https://qiniu.lianghao.work/markdown/20220413215400.png)\n"
   ],
   "metadata": {
    "collapsed": false
   }
  },
  {
   "cell_type": "code",
   "execution_count": 63,
   "outputs": [],
   "source": [
    "import numpy as np\n",
    "import matplotlib.pyplot as plt\n",
    "%matplotlib inline\n",
    "\n",
    "def distance(w, b, x):\n",
    "    w = np.array(w).reshape((-1, 1))\n",
    "    x = np.array(x)\n",
    "    return x.dot(w)[0] + b\n",
    "\n",
    "def sign(w, b, x):\n",
    "\n",
    "    if distance(w, b, x) >= 0:\n",
    "        return 1\n",
    "    else:\n",
    "        return -1\n",
    "\n",
    "def sgd(w, b, x, y,  lr):\n",
    "    w = np.array(w)\n",
    "    x = np.array(x)\n",
    "    w = w + lr * y * x\n",
    "    b = b + lr * y\n",
    "    return w, b\n",
    "\n",
    "# 初始化， 开始迭代运算\n",
    "def Train1(train_in, train_out, lr):\n",
    "    w, b  = [0, 0], 0\n",
    "    flag = 0\n",
    "    while flag < len(train_in):\n",
    "        flag = 0\n",
    "        for i in range(0, len(train_in)):\n",
    "            if train_out[i] * distance(w, b, train_in[i]) <= 0:\n",
    "                # 出现误分类时，进行梯度下降\n",
    "                w, b = sgd(w, b, train_in[i], train_out[i], lr)\n",
    "                # print(\"x\" + str(i + 1), \"  \", \"   \", w, \"   \", b)\n",
    "            else:\n",
    "                flag = flag + 1\n",
    "    return w, b\n",
    "\n",
    "def linearY(w, b, x):\n",
    "    return -1 * (w[0] / w[1]) * x - b / w[1]"
   ],
   "metadata": {
    "collapsed": false
   }
  },
  {
   "cell_type": "code",
   "execution_count": 64,
   "outputs": [],
   "source": [
    "train_input = [(2, 3), (4, 2), (5, 5), (2, 2), (1, 1), (1.5, 5), (0.5, 4)]\n",
    "train_output = [1, 1, 1, 1, -1, -1, -1]"
   ],
   "metadata": {
    "collapsed": false
   }
  },
  {
   "cell_type": "code",
   "execution_count": 68,
   "outputs": [
    {
     "data": {
      "text/plain": "<matplotlib.legend.Legend at 0x27481405760>"
     },
     "execution_count": 68,
     "metadata": {},
     "output_type": "execute_result"
    },
    {
     "data": {
      "text/plain": "<Figure size 432x288 with 1 Axes>",
      "image/png": "[encoded data removed]"
     },
     "metadata": {
      "needs_background": "light"
     },
     "output_type": "display_data"
    }
   ],
   "source": [
    "w, b = Train1(train_input, train_output, 1)\n",
    "# 绘制图像\n",
    "plt.plot([train_input[i][0]for i in range(0, 4)] , [train_input[i][1]for i in range(0, 4)], 'bo', label=\"Train Points\")\n",
    "plt.plot([train_input[i][0]for i in range(4, len(train_input))] , [train_input[i][1]for i in range(4, len(train_input))], 'ro', label=\"Train Points\")\n",
    "x = np.linspace(0, 6, 1000)\n",
    "y = linearY(w, b, x)\n",
    "plt.plot(x, y, label=\"predict\")\n",
    "plt.title(\"Classification\")\n",
    "plt.xlim(0, 6)\n",
    "plt.ylim(0, 6)\n",
    "plt.xlabel(\"x1\")\n",
    "plt.ylabel(\"x2\")\n",
    "plt.legend()"
   ],
   "metadata": {
    "collapsed": false
   }
  },
  {
   "cell_type": "markdown",
   "source": [
    "### 2.3 证明以下定理：样本集可分的充分必要条件是正实例点集所构成的凸壳与负实例点集所构成的凸壳不相交。\n",
    "**凸壳的定义如下**：设集合$S \\subset R^n$，是由$R^n$中的$k$个点所组成的集合，即$S=\\{x_1, x_2, \\cdots, x_k\\}$。定义$S$的凸壳$conv(S)$为：\n",
    "$$\n",
    "conv(S)=\\left\\{x = \\sum_{i=1}^k {\\lambda_i x_i} | \\sum_{i=1}^k {\\lambda_i=1},\\lambda_i \\ge 0, i=1, 2, 3, \\cdots, k \\right\\}\n",
    "$$\n",
    "\n",
    "1. 充分性（样本可分 ——> 凸壳不相交）\n",
    "如果样本集可分，那么必然存在一个**超平面**$S: w\\cdot x+ b = 0$将正实例点集$S^{(1)}=\\{x_1^{(1)}, x_2^{(1)}, \\cdots, x_k^{(1)}\\}$和负实例点集$S^{(2)}=\\{x_1^{(2)}, x_2^{(2)}, \\cdots, x_k^{(2)}\\}$分离，即:\n",
    "$$\n",
    "\\begin{aligned}\n",
    "\\forall x_i^{(1)} \\in S^{(1)},\\ w \\cdot x_i^{(1)} + b > 0\\\\\n",
    "\\forall x_i^{(2)} \\in S^{(2)},\\ w \\cdot x_i^{(2)} + b \\le 0\\\\\n",
    "\\end{aligned}\n",
    "$$\n",
    "正实例点集和负实例点集的**凸壳表示如下**：\n",
    "$$\n",
    "\\begin{aligned}\n",
    "conv(S^{(1)})=\\left\\{x^{(1)} = \\sum_{i=1}^k {\\lambda_i x_i^{(1)}} | \\sum_{i=1}^k {\\lambda_i=1},\\lambda_i \\ge 0, i=1, 2, 3, \\cdots, k \\right\\}\\\\\n",
    "conv(S^{(2)})=\\left\\{x^{(2)} = \\sum_{i=1}^k {\\lambda_i x_i^{(2)}} | \\sum_{i=1}^k {\\lambda_i=1},\\lambda_i \\ge 0, i=1, 2, 3, \\cdots, k \\right\\}\n",
    "\\end{aligned}\n",
    "$$\n",
    "分别将正实例点集和负实例点集带入超平面中\n",
    "$$\n",
    "\\begin{aligned}\n",
    "\\because \\sum_{i=1}^k \\lambda_i = 1\\\\\n",
    "\\therefore w \\cdot x^{(1)}+b =w \\cdot \\sum_{i=1}^k \\lambda_i(x_i^{(1)}) + \\sum_{i=1}^k \\lambda_i b= \\sum_{i=1}^k \\lambda_i(w \\cdot x_i^{(1)} + b)> 0\\\\\n",
    "w \\cdot x^{(2)}+b =w \\cdot \\sum_{i=1}^k \\lambda_i(x_i^{(2)}) + \\sum_{i=1}^k \\lambda_i b= \\sum_{i=1}^k \\lambda_i(w \\cdot x_i^{(2)} + b)\\le 0\n",
    "\\end{aligned}\n",
    "$$\n",
    "所以，**两个凸壳不相交**\n",
    "2. 必要性（凸壳不相交 ——> 样本可分）\n",
    "**超平面分离定理(Separating hyperplane theorem)**"
   ],
   "metadata": {
    "collapsed": false
   }
  }
 ],
 "metadata": {
  "kernelspec": {
   "display_name": "Python 3",
   "language": "python",
   "name": "python3"
  },
  "language_info": {
   "codemirror_mode": {
    "name": "ipython",
    "version": 2
   },
   "file_extension": ".py",
   "mimetype": "text/x-python",
   "name": "python",
   "nbconvert_exporter": "python",
   "pygments_lexer": "ipython2",
   "version": "2.7.6"
  }
 },
 "nbformat": 4,
 "nbformat_minor": 0
}
